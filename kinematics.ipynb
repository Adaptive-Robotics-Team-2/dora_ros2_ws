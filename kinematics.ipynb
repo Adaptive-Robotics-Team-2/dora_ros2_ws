{
 "cells": [
  {
   "cell_type": "markdown",
   "metadata": {},
   "source": [
    "inverse kinematics, from specified point in space to individual wheel angular velocities"
   ]
  },
  {
   "cell_type": "code",
   "execution_count": 11,
   "metadata": {},
   "outputs": [
    {
     "name": "stdout",
     "output_type": "stream",
     "text": [
      "front-left wheel: 5.590169943749474 rad/s\n",
      "front-right wheel: 16.77050983124842 rad/s\n",
      "rear-left wheel: 16.77050983124842 rad/s\n",
      "rear-right wheel: 5.590169943749474 rad/s\n"
     ]
    }
   ],
   "source": [
    "import numpy as np\n",
    "import math as m\n",
    "\n",
    "L = 0.240  # baseplate length\n",
    "W = 0.190  # baseplate width\n",
    "r = 0.040  # wheel radius\n",
    "\n",
    "# default_speed = float(input(\"Enter the default speed of the robot (in m/s): \"))\n",
    "default_speed = 0.5\n",
    "\n",
    "x_current, y_current = 0.0, 0.0\n",
    "x_target = float(input(\"x position in meters: \"))\n",
    "y_target = float(input(\"y position in meters: \"))\n",
    "\n",
    "delta_x = x_target - x_current\n",
    "delta_y = y_target - y_current\n",
    "\n",
    "distance = np.sqrt(delta_x**2 + delta_y**2)\n",
    "\n",
    "# normalize\n",
    "direction_x = delta_x / distance\n",
    "direction_y = delta_y / distance\n",
    "\n",
    "Vx = direction_x * default_speed\n",
    "Vy = direction_y * default_speed\n",
    "omega = 0.0  # no rotation\n",
    "\n",
    "# inverse kinematics\n",
    "WFL = (Vx - Vy - (L + W) * omega)/r\n",
    "WFR = (Vx + Vy + (L + W) * omega)/r\n",
    "WRL = (Vx + Vy - (L + W) * omega)/r\n",
    "WRR = (Vx - Vy + (L + W) * omega)/r\n",
    "\n",
    "W = np.array([[WFL, WFR], [WRL, WRR]])\n",
    "# rotation_matrix = np.array([[0, -1], [1, 0]])\n",
    "# W = np.dot(W, rotation_matrix)\n",
    "\n",
    "print(f\"front-left wheel: {W[0][0]} rad/s\")\n",
    "print(f\"front-right wheel: {W[0][1]} rad/s\")\n",
    "print(f\"rear-left wheel: {W[1][0]} rad/s\")\n",
    "print(f\"rear-right wheel: {W[1][1]} rad/s\")"
   ]
  }
 ],
 "metadata": {
  "kernelspec": {
   "display_name": "base",
   "language": "python",
   "name": "python3"
  },
  "language_info": {
   "codemirror_mode": {
    "name": "ipython",
    "version": 3
   },
   "file_extension": ".py",
   "mimetype": "text/x-python",
   "name": "python",
   "nbconvert_exporter": "python",
   "pygments_lexer": "ipython3",
   "version": "3.11.4"
  }
 },
 "nbformat": 4,
 "nbformat_minor": 2
}
